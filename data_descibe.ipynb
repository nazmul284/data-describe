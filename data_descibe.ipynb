{
  "nbformat": 4,
  "nbformat_minor": 0,
  "metadata": {
    "colab": {
      "name": "data descibe.ipynb",
      "provenance": []
    },
    "kernelspec": {
      "name": "python3",
      "display_name": "Python 3"
    },
    "language_info": {
      "name": "python"
    }
  },
  "cells": [
    {
      "cell_type": "code",
      "metadata": {
        "id": "f3bo8kYTnuJy"
      },
      "source": [
        "import pandas as pd\n"
      ],
      "execution_count": null,
      "outputs": []
    },
    {
      "cell_type": "code",
      "metadata": {
        "id": "woB4On1um4Zl"
      },
      "source": [
        "df = pd.read_excel (r'/content/pos.xlsx')"
      ],
      "execution_count": null,
      "outputs": []
    },
    {
      "cell_type": "code",
      "metadata": {
        "colab": {
          "base_uri": "https://localhost:8080/",
          "height": 202
        },
        "id": "WQNX_TW-pb0w",
        "outputId": "ded8eb4c-9221-44ec-c7ed-cd495bb04c64"
      },
      "source": [
        "df.head()"
      ],
      "execution_count": null,
      "outputs": [
        {
          "output_type": "execute_result",
          "data": {
            "text/html": [
              "<div>\n",
              "<style scoped>\n",
              "    .dataframe tbody tr th:only-of-type {\n",
              "        vertical-align: middle;\n",
              "    }\n",
              "\n",
              "    .dataframe tbody tr th {\n",
              "        vertical-align: top;\n",
              "    }\n",
              "\n",
              "    .dataframe thead th {\n",
              "        text-align: right;\n",
              "    }\n",
              "</style>\n",
              "<table border=\"1\" class=\"dataframe\">\n",
              "  <thead>\n",
              "    <tr style=\"text-align: right;\">\n",
              "      <th></th>\n",
              "      <th>partner_id</th>\n",
              "      <th>RetainedMONTHS</th>\n",
              "      <th>FUSE</th>\n",
              "      <th>PaidUSER</th>\n",
              "      <th>NextMONTHUSE</th>\n",
              "      <th>M1_Retained</th>\n",
              "      <th>FIRSTUseDAYS</th>\n",
              "      <th>FIRST_TRX</th>\n",
              "    </tr>\n",
              "  </thead>\n",
              "  <tbody>\n",
              "    <tr>\n",
              "      <th>0</th>\n",
              "      <td>16</td>\n",
              "      <td>3</td>\n",
              "      <td>2019-09-06</td>\n",
              "      <td>Yes</td>\n",
              "      <td>2019-10-12 13:53:54</td>\n",
              "      <td>Yes</td>\n",
              "      <td>1</td>\n",
              "      <td>1</td>\n",
              "    </tr>\n",
              "    <tr>\n",
              "      <th>1</th>\n",
              "      <td>28</td>\n",
              "      <td>3</td>\n",
              "      <td>2019-09-04</td>\n",
              "      <td>Yes</td>\n",
              "      <td>2019-10-07 12:42:39</td>\n",
              "      <td>Yes</td>\n",
              "      <td>1</td>\n",
              "      <td>1</td>\n",
              "    </tr>\n",
              "    <tr>\n",
              "      <th>2</th>\n",
              "      <td>33</td>\n",
              "      <td>2</td>\n",
              "      <td>2019-06-25</td>\n",
              "      <td>No</td>\n",
              "      <td>2019-09-04 13:02:25</td>\n",
              "      <td>No</td>\n",
              "      <td>1</td>\n",
              "      <td>5</td>\n",
              "    </tr>\n",
              "    <tr>\n",
              "      <th>3</th>\n",
              "      <td>89</td>\n",
              "      <td>2</td>\n",
              "      <td>2020-01-14</td>\n",
              "      <td>No</td>\n",
              "      <td>2020-11-05 00:35:40</td>\n",
              "      <td>No</td>\n",
              "      <td>1</td>\n",
              "      <td>2</td>\n",
              "    </tr>\n",
              "    <tr>\n",
              "      <th>4</th>\n",
              "      <td>98</td>\n",
              "      <td>10</td>\n",
              "      <td>2019-05-21</td>\n",
              "      <td>Yes</td>\n",
              "      <td>2019-06-22 19:24:34</td>\n",
              "      <td>Yes</td>\n",
              "      <td>1</td>\n",
              "      <td>1</td>\n",
              "    </tr>\n",
              "  </tbody>\n",
              "</table>\n",
              "</div>"
            ],
            "text/plain": [
              "   partner_id  RetainedMONTHS       FUSE  ... M1_Retained FIRSTUseDAYS FIRST_TRX\n",
              "0          16               3 2019-09-06  ...         Yes            1         1\n",
              "1          28               3 2019-09-04  ...         Yes            1         1\n",
              "2          33               2 2019-06-25  ...          No            1         5\n",
              "3          89               2 2020-01-14  ...          No            1         2\n",
              "4          98              10 2019-05-21  ...         Yes            1         1\n",
              "\n",
              "[5 rows x 8 columns]"
            ]
          },
          "metadata": {
            "tags": []
          },
          "execution_count": 112
        }
      ]
    },
    {
      "cell_type": "code",
      "metadata": {
        "id": "9SVtqOUPpi8_"
      },
      "source": [
        "next_month_retained_df = df.copy()"
      ],
      "execution_count": null,
      "outputs": []
    },
    {
      "cell_type": "code",
      "metadata": {
        "colab": {
          "base_uri": "https://localhost:8080/",
          "height": 202
        },
        "id": "0KQgePeuqgzj",
        "outputId": "c9e25523-1f09-4733-a350-66c8d1073421"
      },
      "source": [
        "next_month_retained_df.head()"
      ],
      "execution_count": null,
      "outputs": [
        {
          "output_type": "execute_result",
          "data": {
            "text/html": [
              "<div>\n",
              "<style scoped>\n",
              "    .dataframe tbody tr th:only-of-type {\n",
              "        vertical-align: middle;\n",
              "    }\n",
              "\n",
              "    .dataframe tbody tr th {\n",
              "        vertical-align: top;\n",
              "    }\n",
              "\n",
              "    .dataframe thead th {\n",
              "        text-align: right;\n",
              "    }\n",
              "</style>\n",
              "<table border=\"1\" class=\"dataframe\">\n",
              "  <thead>\n",
              "    <tr style=\"text-align: right;\">\n",
              "      <th></th>\n",
              "      <th>partner_id</th>\n",
              "      <th>RetainedMONTHS</th>\n",
              "      <th>FUSE</th>\n",
              "      <th>PaidUSER</th>\n",
              "      <th>NextMONTHUSE</th>\n",
              "      <th>M1_Retained</th>\n",
              "      <th>FIRSTUseDAYS</th>\n",
              "      <th>FIRST_TRX</th>\n",
              "    </tr>\n",
              "  </thead>\n",
              "  <tbody>\n",
              "    <tr>\n",
              "      <th>0</th>\n",
              "      <td>16</td>\n",
              "      <td>3</td>\n",
              "      <td>2019-09-06</td>\n",
              "      <td>Yes</td>\n",
              "      <td>2019-10-12 13:53:54</td>\n",
              "      <td>Yes</td>\n",
              "      <td>1</td>\n",
              "      <td>1</td>\n",
              "    </tr>\n",
              "    <tr>\n",
              "      <th>1</th>\n",
              "      <td>28</td>\n",
              "      <td>3</td>\n",
              "      <td>2019-09-04</td>\n",
              "      <td>Yes</td>\n",
              "      <td>2019-10-07 12:42:39</td>\n",
              "      <td>Yes</td>\n",
              "      <td>1</td>\n",
              "      <td>1</td>\n",
              "    </tr>\n",
              "    <tr>\n",
              "      <th>2</th>\n",
              "      <td>33</td>\n",
              "      <td>2</td>\n",
              "      <td>2019-06-25</td>\n",
              "      <td>No</td>\n",
              "      <td>2019-09-04 13:02:25</td>\n",
              "      <td>No</td>\n",
              "      <td>1</td>\n",
              "      <td>5</td>\n",
              "    </tr>\n",
              "    <tr>\n",
              "      <th>3</th>\n",
              "      <td>89</td>\n",
              "      <td>2</td>\n",
              "      <td>2020-01-14</td>\n",
              "      <td>No</td>\n",
              "      <td>2020-11-05 00:35:40</td>\n",
              "      <td>No</td>\n",
              "      <td>1</td>\n",
              "      <td>2</td>\n",
              "    </tr>\n",
              "    <tr>\n",
              "      <th>4</th>\n",
              "      <td>98</td>\n",
              "      <td>10</td>\n",
              "      <td>2019-05-21</td>\n",
              "      <td>Yes</td>\n",
              "      <td>2019-06-22 19:24:34</td>\n",
              "      <td>Yes</td>\n",
              "      <td>1</td>\n",
              "      <td>1</td>\n",
              "    </tr>\n",
              "  </tbody>\n",
              "</table>\n",
              "</div>"
            ],
            "text/plain": [
              "   partner_id  RetainedMONTHS       FUSE  ... M1_Retained FIRSTUseDAYS FIRST_TRX\n",
              "0          16               3 2019-09-06  ...         Yes            1         1\n",
              "1          28               3 2019-09-04  ...         Yes            1         1\n",
              "2          33               2 2019-06-25  ...          No            1         5\n",
              "3          89               2 2020-01-14  ...          No            1         2\n",
              "4          98              10 2019-05-21  ...         Yes            1         1\n",
              "\n",
              "[5 rows x 8 columns]"
            ]
          },
          "metadata": {
            "tags": []
          },
          "execution_count": 114
        }
      ]
    },
    {
      "cell_type": "code",
      "metadata": {
        "id": "38uf19trql0y"
      },
      "source": [
        "next_month_retained_df=next_month_retained_df.drop(['FUSE','NextMONTHUSE'],\n",
        "  axis=1)"
      ],
      "execution_count": null,
      "outputs": []
    },
    {
      "cell_type": "code",
      "metadata": {
        "colab": {
          "base_uri": "https://localhost:8080/",
          "height": 202
        },
        "id": "W_MRQeHZq45I",
        "outputId": "49fcac40-4e6a-4501-85c9-4a903e1af6ff"
      },
      "source": [
        "next_month_retained_df.head()"
      ],
      "execution_count": null,
      "outputs": [
        {
          "output_type": "execute_result",
          "data": {
            "text/html": [
              "<div>\n",
              "<style scoped>\n",
              "    .dataframe tbody tr th:only-of-type {\n",
              "        vertical-align: middle;\n",
              "    }\n",
              "\n",
              "    .dataframe tbody tr th {\n",
              "        vertical-align: top;\n",
              "    }\n",
              "\n",
              "    .dataframe thead th {\n",
              "        text-align: right;\n",
              "    }\n",
              "</style>\n",
              "<table border=\"1\" class=\"dataframe\">\n",
              "  <thead>\n",
              "    <tr style=\"text-align: right;\">\n",
              "      <th></th>\n",
              "      <th>partner_id</th>\n",
              "      <th>RetainedMONTHS</th>\n",
              "      <th>PaidUSER</th>\n",
              "      <th>M1_Retained</th>\n",
              "      <th>FIRSTUseDAYS</th>\n",
              "      <th>FIRST_TRX</th>\n",
              "    </tr>\n",
              "  </thead>\n",
              "  <tbody>\n",
              "    <tr>\n",
              "      <th>0</th>\n",
              "      <td>16</td>\n",
              "      <td>3</td>\n",
              "      <td>Yes</td>\n",
              "      <td>Yes</td>\n",
              "      <td>1</td>\n",
              "      <td>1</td>\n",
              "    </tr>\n",
              "    <tr>\n",
              "      <th>1</th>\n",
              "      <td>28</td>\n",
              "      <td>3</td>\n",
              "      <td>Yes</td>\n",
              "      <td>Yes</td>\n",
              "      <td>1</td>\n",
              "      <td>1</td>\n",
              "    </tr>\n",
              "    <tr>\n",
              "      <th>2</th>\n",
              "      <td>33</td>\n",
              "      <td>2</td>\n",
              "      <td>No</td>\n",
              "      <td>No</td>\n",
              "      <td>1</td>\n",
              "      <td>5</td>\n",
              "    </tr>\n",
              "    <tr>\n",
              "      <th>3</th>\n",
              "      <td>89</td>\n",
              "      <td>2</td>\n",
              "      <td>No</td>\n",
              "      <td>No</td>\n",
              "      <td>1</td>\n",
              "      <td>2</td>\n",
              "    </tr>\n",
              "    <tr>\n",
              "      <th>4</th>\n",
              "      <td>98</td>\n",
              "      <td>10</td>\n",
              "      <td>Yes</td>\n",
              "      <td>Yes</td>\n",
              "      <td>1</td>\n",
              "      <td>1</td>\n",
              "    </tr>\n",
              "  </tbody>\n",
              "</table>\n",
              "</div>"
            ],
            "text/plain": [
              "   partner_id  RetainedMONTHS PaidUSER M1_Retained  FIRSTUseDAYS  FIRST_TRX\n",
              "0          16               3      Yes         Yes             1          1\n",
              "1          28               3      Yes         Yes             1          1\n",
              "2          33               2       No          No             1          5\n",
              "3          89               2       No          No             1          2\n",
              "4          98              10      Yes         Yes             1          1"
            ]
          },
          "metadata": {
            "tags": []
          },
          "execution_count": 116
        }
      ]
    },
    {
      "cell_type": "code",
      "metadata": {
        "colab": {
          "base_uri": "https://localhost:8080/"
        },
        "id": "jxqgXRB3upNn",
        "outputId": "c1a20d12-ffd1-4d72-e026-48af7e533565"
      },
      "source": [
        "next_month_retained_df.columns"
      ],
      "execution_count": null,
      "outputs": [
        {
          "output_type": "execute_result",
          "data": {
            "text/plain": [
              "Index(['partner_id', 'RetainedMONTHS', 'PaidUSER', 'M1_Retained',\n",
              "       'FIRSTUseDAYS', 'FIRST_TRX'],\n",
              "      dtype='object')"
            ]
          },
          "metadata": {
            "tags": []
          },
          "execution_count": 117
        }
      ]
    },
    {
      "cell_type": "code",
      "metadata": {
        "id": "7JGHv48bySyg"
      },
      "source": [
        "next_month_retained_df = next_month_retained_df.loc[next_month_retained_df['M1_Retained']==\"Yes\"]"
      ],
      "execution_count": null,
      "outputs": []
    },
    {
      "cell_type": "code",
      "metadata": {
        "colab": {
          "base_uri": "https://localhost:8080/",
          "height": 202
        },
        "id": "lYbPwi0UybNh",
        "outputId": "fe5447eb-90d2-4627-9c27-a7ad85c5b89d"
      },
      "source": [
        "next_month_retained_df.head()"
      ],
      "execution_count": null,
      "outputs": [
        {
          "output_type": "execute_result",
          "data": {
            "text/html": [
              "<div>\n",
              "<style scoped>\n",
              "    .dataframe tbody tr th:only-of-type {\n",
              "        vertical-align: middle;\n",
              "    }\n",
              "\n",
              "    .dataframe tbody tr th {\n",
              "        vertical-align: top;\n",
              "    }\n",
              "\n",
              "    .dataframe thead th {\n",
              "        text-align: right;\n",
              "    }\n",
              "</style>\n",
              "<table border=\"1\" class=\"dataframe\">\n",
              "  <thead>\n",
              "    <tr style=\"text-align: right;\">\n",
              "      <th></th>\n",
              "      <th>partner_id</th>\n",
              "      <th>RetainedMONTHS</th>\n",
              "      <th>PaidUSER</th>\n",
              "      <th>M1_Retained</th>\n",
              "      <th>FIRSTUseDAYS</th>\n",
              "      <th>FIRST_TRX</th>\n",
              "    </tr>\n",
              "  </thead>\n",
              "  <tbody>\n",
              "    <tr>\n",
              "      <th>0</th>\n",
              "      <td>16</td>\n",
              "      <td>3</td>\n",
              "      <td>Yes</td>\n",
              "      <td>Yes</td>\n",
              "      <td>1</td>\n",
              "      <td>1</td>\n",
              "    </tr>\n",
              "    <tr>\n",
              "      <th>1</th>\n",
              "      <td>28</td>\n",
              "      <td>3</td>\n",
              "      <td>Yes</td>\n",
              "      <td>Yes</td>\n",
              "      <td>1</td>\n",
              "      <td>1</td>\n",
              "    </tr>\n",
              "    <tr>\n",
              "      <th>4</th>\n",
              "      <td>98</td>\n",
              "      <td>10</td>\n",
              "      <td>Yes</td>\n",
              "      <td>Yes</td>\n",
              "      <td>1</td>\n",
              "      <td>1</td>\n",
              "    </tr>\n",
              "    <tr>\n",
              "      <th>5</th>\n",
              "      <td>171</td>\n",
              "      <td>3</td>\n",
              "      <td>Yes</td>\n",
              "      <td>Yes</td>\n",
              "      <td>1</td>\n",
              "      <td>1</td>\n",
              "    </tr>\n",
              "    <tr>\n",
              "      <th>6</th>\n",
              "      <td>181</td>\n",
              "      <td>13</td>\n",
              "      <td>Yes</td>\n",
              "      <td>Yes</td>\n",
              "      <td>1</td>\n",
              "      <td>2</td>\n",
              "    </tr>\n",
              "  </tbody>\n",
              "</table>\n",
              "</div>"
            ],
            "text/plain": [
              "   partner_id  RetainedMONTHS PaidUSER M1_Retained  FIRSTUseDAYS  FIRST_TRX\n",
              "0          16               3      Yes         Yes             1          1\n",
              "1          28               3      Yes         Yes             1          1\n",
              "4          98              10      Yes         Yes             1          1\n",
              "5         171               3      Yes         Yes             1          1\n",
              "6         181              13      Yes         Yes             1          2"
            ]
          },
          "metadata": {
            "tags": []
          },
          "execution_count": 119
        }
      ]
    },
    {
      "cell_type": "code",
      "metadata": {
        "colab": {
          "base_uri": "https://localhost:8080/",
          "height": 78
        },
        "id": "xvb0km-Qyhw6",
        "outputId": "e2aa1621-10c5-4879-f22c-b50c1a79df8d"
      },
      "source": [
        "next_month_retained_df.query('M1_Retained == \"Yes\" and partner_id == 664497')\n"
      ],
      "execution_count": null,
      "outputs": [
        {
          "output_type": "execute_result",
          "data": {
            "text/html": [
              "<div>\n",
              "<style scoped>\n",
              "    .dataframe tbody tr th:only-of-type {\n",
              "        vertical-align: middle;\n",
              "    }\n",
              "\n",
              "    .dataframe tbody tr th {\n",
              "        vertical-align: top;\n",
              "    }\n",
              "\n",
              "    .dataframe thead th {\n",
              "        text-align: right;\n",
              "    }\n",
              "</style>\n",
              "<table border=\"1\" class=\"dataframe\">\n",
              "  <thead>\n",
              "    <tr style=\"text-align: right;\">\n",
              "      <th></th>\n",
              "      <th>partner_id</th>\n",
              "      <th>RetainedMONTHS</th>\n",
              "      <th>PaidUSER</th>\n",
              "      <th>M1_Retained</th>\n",
              "      <th>FIRSTUseDAYS</th>\n",
              "      <th>FIRST_TRX</th>\n",
              "    </tr>\n",
              "  </thead>\n",
              "  <tbody>\n",
              "    <tr>\n",
              "      <th>8887</th>\n",
              "      <td>664497</td>\n",
              "      <td>5</td>\n",
              "      <td>No</td>\n",
              "      <td>Yes</td>\n",
              "      <td>8</td>\n",
              "      <td>15</td>\n",
              "    </tr>\n",
              "  </tbody>\n",
              "</table>\n",
              "</div>"
            ],
            "text/plain": [
              "      partner_id  RetainedMONTHS PaidUSER M1_Retained  FIRSTUseDAYS  FIRST_TRX\n",
              "8887      664497               5       No         Yes             8         15"
            ]
          },
          "metadata": {
            "tags": []
          },
          "execution_count": 120
        }
      ]
    },
    {
      "cell_type": "code",
      "metadata": {
        "id": "lNu_WG_Lyr9w"
      },
      "source": [
        "paid_no_df = next_month_retained_df.copy()"
      ],
      "execution_count": null,
      "outputs": []
    },
    {
      "cell_type": "code",
      "metadata": {
        "colab": {
          "base_uri": "https://localhost:8080/",
          "height": 294
        },
        "id": "y2Z1GRjUeDDW",
        "outputId": "d721d861-7aad-464a-9300-d1657825ac0e"
      },
      "source": [
        "next_month_retained_df.describe()"
      ],
      "execution_count": null,
      "outputs": [
        {
          "output_type": "execute_result",
          "data": {
            "text/html": [
              "<div>\n",
              "<style scoped>\n",
              "    .dataframe tbody tr th:only-of-type {\n",
              "        vertical-align: middle;\n",
              "    }\n",
              "\n",
              "    .dataframe tbody tr th {\n",
              "        vertical-align: top;\n",
              "    }\n",
              "\n",
              "    .dataframe thead th {\n",
              "        text-align: right;\n",
              "    }\n",
              "</style>\n",
              "<table border=\"1\" class=\"dataframe\">\n",
              "  <thead>\n",
              "    <tr style=\"text-align: right;\">\n",
              "      <th></th>\n",
              "      <th>partner_id</th>\n",
              "      <th>RetainedMONTHS</th>\n",
              "      <th>FIRSTUseDAYS</th>\n",
              "      <th>FIRST_TRX</th>\n",
              "    </tr>\n",
              "  </thead>\n",
              "  <tbody>\n",
              "    <tr>\n",
              "      <th>count</th>\n",
              "      <td>3175.000000</td>\n",
              "      <td>3175.000000</td>\n",
              "      <td>3175.000000</td>\n",
              "      <td>3175.000000</td>\n",
              "    </tr>\n",
              "    <tr>\n",
              "      <th>mean</th>\n",
              "      <td>322362.069291</td>\n",
              "      <td>4.004724</td>\n",
              "      <td>5.533228</td>\n",
              "      <td>49.963465</td>\n",
              "    </tr>\n",
              "    <tr>\n",
              "      <th>std</th>\n",
              "      <td>212715.617002</td>\n",
              "      <td>2.899869</td>\n",
              "      <td>6.039104</td>\n",
              "      <td>292.642249</td>\n",
              "    </tr>\n",
              "    <tr>\n",
              "      <th>min</th>\n",
              "      <td>16.000000</td>\n",
              "      <td>2.000000</td>\n",
              "      <td>1.000000</td>\n",
              "      <td>1.000000</td>\n",
              "    </tr>\n",
              "    <tr>\n",
              "      <th>25%</th>\n",
              "      <td>154873.500000</td>\n",
              "      <td>2.000000</td>\n",
              "      <td>1.000000</td>\n",
              "      <td>2.000000</td>\n",
              "    </tr>\n",
              "    <tr>\n",
              "      <th>50%</th>\n",
              "      <td>255866.000000</td>\n",
              "      <td>3.000000</td>\n",
              "      <td>3.000000</td>\n",
              "      <td>7.000000</td>\n",
              "    </tr>\n",
              "    <tr>\n",
              "      <th>75%</th>\n",
              "      <td>458143.500000</td>\n",
              "      <td>5.000000</td>\n",
              "      <td>8.000000</td>\n",
              "      <td>30.000000</td>\n",
              "    </tr>\n",
              "    <tr>\n",
              "      <th>max</th>\n",
              "      <td>893765.000000</td>\n",
              "      <td>22.000000</td>\n",
              "      <td>30.000000</td>\n",
              "      <td>10646.000000</td>\n",
              "    </tr>\n",
              "  </tbody>\n",
              "</table>\n",
              "</div>"
            ],
            "text/plain": [
              "          partner_id  RetainedMONTHS  FIRSTUseDAYS     FIRST_TRX\n",
              "count    3175.000000     3175.000000   3175.000000   3175.000000\n",
              "mean   322362.069291        4.004724      5.533228     49.963465\n",
              "std    212715.617002        2.899869      6.039104    292.642249\n",
              "min        16.000000        2.000000      1.000000      1.000000\n",
              "25%    154873.500000        2.000000      1.000000      2.000000\n",
              "50%    255866.000000        3.000000      3.000000      7.000000\n",
              "75%    458143.500000        5.000000      8.000000     30.000000\n",
              "max    893765.000000       22.000000     30.000000  10646.000000"
            ]
          },
          "metadata": {
            "tags": []
          },
          "execution_count": 129
        }
      ]
    },
    {
      "cell_type": "code",
      "metadata": {
        "id": "yqhKDIFC50j_"
      },
      "source": [
        "df_topup = pd.read_excel (r'/content/topup.xlsx')"
      ],
      "execution_count": null,
      "outputs": []
    },
    {
      "cell_type": "code",
      "metadata": {
        "id": "luqF7eVM56iD"
      },
      "source": [
        "next_month_topup_retained_df = df_topup.copy()"
      ],
      "execution_count": null,
      "outputs": []
    },
    {
      "cell_type": "code",
      "metadata": {
        "colab": {
          "base_uri": "https://localhost:8080/",
          "height": 202
        },
        "id": "8NixTiO5kkFO",
        "outputId": "562f59f5-44f5-4343-a6f4-9e70d9d1eca6"
      },
      "source": [
        "next_month_topup_retained_df.head()"
      ],
      "execution_count": null,
      "outputs": [
        {
          "output_type": "execute_result",
          "data": {
            "text/html": [
              "<div>\n",
              "<style scoped>\n",
              "    .dataframe tbody tr th:only-of-type {\n",
              "        vertical-align: middle;\n",
              "    }\n",
              "\n",
              "    .dataframe tbody tr th {\n",
              "        vertical-align: top;\n",
              "    }\n",
              "\n",
              "    .dataframe thead th {\n",
              "        text-align: right;\n",
              "    }\n",
              "</style>\n",
              "<table border=\"1\" class=\"dataframe\">\n",
              "  <thead>\n",
              "    <tr style=\"text-align: right;\">\n",
              "      <th></th>\n",
              "      <th>partner_id</th>\n",
              "      <th>RetainedMONTHS</th>\n",
              "      <th>FUSE</th>\n",
              "      <th>PaidUSER</th>\n",
              "      <th>NextMONTHUSE</th>\n",
              "      <th>M1_Retained</th>\n",
              "      <th>FIRSTUseDAYS</th>\n",
              "      <th>FIRST_TRX</th>\n",
              "    </tr>\n",
              "  </thead>\n",
              "  <tbody>\n",
              "    <tr>\n",
              "      <th>0</th>\n",
              "      <td>2</td>\n",
              "      <td>4</td>\n",
              "      <td>2019-04-02</td>\n",
              "      <td>Yes</td>\n",
              "      <td>2019-05-04 10:10:41</td>\n",
              "      <td>Yes</td>\n",
              "      <td>5</td>\n",
              "      <td>6</td>\n",
              "    </tr>\n",
              "    <tr>\n",
              "      <th>1</th>\n",
              "      <td>3</td>\n",
              "      <td>9</td>\n",
              "      <td>2018-12-19</td>\n",
              "      <td>Yes</td>\n",
              "      <td>2019-01-25 17:47:50</td>\n",
              "      <td>Yes</td>\n",
              "      <td>3</td>\n",
              "      <td>3</td>\n",
              "    </tr>\n",
              "    <tr>\n",
              "      <th>2</th>\n",
              "      <td>9</td>\n",
              "      <td>11</td>\n",
              "      <td>2019-01-13</td>\n",
              "      <td>Yes</td>\n",
              "      <td>2019-02-13 20:28:12</td>\n",
              "      <td>Yes</td>\n",
              "      <td>11</td>\n",
              "      <td>15</td>\n",
              "    </tr>\n",
              "    <tr>\n",
              "      <th>3</th>\n",
              "      <td>28</td>\n",
              "      <td>18</td>\n",
              "      <td>2019-01-03</td>\n",
              "      <td>Yes</td>\n",
              "      <td>2019-03-07 11:23:47</td>\n",
              "      <td>No</td>\n",
              "      <td>3</td>\n",
              "      <td>3</td>\n",
              "    </tr>\n",
              "    <tr>\n",
              "      <th>4</th>\n",
              "      <td>98</td>\n",
              "      <td>1</td>\n",
              "      <td>2020-10-04</td>\n",
              "      <td>Yes</td>\n",
              "      <td>2021-03-30 17:55:02</td>\n",
              "      <td>No</td>\n",
              "      <td>2</td>\n",
              "      <td>3</td>\n",
              "    </tr>\n",
              "  </tbody>\n",
              "</table>\n",
              "</div>"
            ],
            "text/plain": [
              "   partner_id  RetainedMONTHS       FUSE  ... M1_Retained FIRSTUseDAYS FIRST_TRX\n",
              "0           2               4 2019-04-02  ...         Yes            5         6\n",
              "1           3               9 2018-12-19  ...         Yes            3         3\n",
              "2           9              11 2019-01-13  ...         Yes           11        15\n",
              "3          28              18 2019-01-03  ...          No            3         3\n",
              "4          98               1 2020-10-04  ...          No            2         3\n",
              "\n",
              "[5 rows x 8 columns]"
            ]
          },
          "metadata": {
            "tags": []
          },
          "execution_count": 143
        }
      ]
    },
    {
      "cell_type": "code",
      "metadata": {
        "id": "HCE2WW1S6EYf"
      },
      "source": [
        "next_month_topup_retained_df=next_month_topup_retained_df.drop(['FUSE','NextMONTHUSE'],\n",
        "  axis=1)"
      ],
      "execution_count": null,
      "outputs": []
    },
    {
      "cell_type": "code",
      "metadata": {
        "id": "FeeuZNtwBH1E"
      },
      "source": [
        "next_month_topup_retained_df = next_month_topup_retained_df.loc[next_month_topup_retained_df['M1_Retained']==\"Yes\"]"
      ],
      "execution_count": null,
      "outputs": []
    },
    {
      "cell_type": "code",
      "metadata": {
        "id": "IaXrCdgG6J4r"
      },
      "source": [
        "topup_paid_no_df = next_month_topup_retained_df.copy()\n",
        "topup_paid_yes_df = next_month_topup_retained_df.copy()"
      ],
      "execution_count": null,
      "outputs": []
    },
    {
      "cell_type": "code",
      "metadata": {
        "id": "-cHQnx9G6U_8"
      },
      "source": [
        "topup_paid_no_df = topup_paid_no_df.loc[topup_paid_no_df['PaidUSER']==\"No\"]\n",
        "topup_paid_yes_df = topup_paid_yes_df.loc[topup_paid_yes_df['PaidUSER']==\"Yes\"]"
      ],
      "execution_count": null,
      "outputs": []
    },
    {
      "cell_type": "code",
      "metadata": {
        "colab": {
          "base_uri": "https://localhost:8080/",
          "height": 294
        },
        "id": "gdG7p_Dcl97G",
        "outputId": "e3f40cb2-7211-4439-d76a-c529abdc51ca"
      },
      "source": [
        "next_month_topup_retained_df.describe()"
      ],
      "execution_count": null,
      "outputs": [
        {
          "output_type": "execute_result",
          "data": {
            "text/html": [
              "<div>\n",
              "<style scoped>\n",
              "    .dataframe tbody tr th:only-of-type {\n",
              "        vertical-align: middle;\n",
              "    }\n",
              "\n",
              "    .dataframe tbody tr th {\n",
              "        vertical-align: top;\n",
              "    }\n",
              "\n",
              "    .dataframe thead th {\n",
              "        text-align: right;\n",
              "    }\n",
              "</style>\n",
              "<table border=\"1\" class=\"dataframe\">\n",
              "  <thead>\n",
              "    <tr style=\"text-align: right;\">\n",
              "      <th></th>\n",
              "      <th>partner_id</th>\n",
              "      <th>RetainedMONTHS</th>\n",
              "      <th>FIRSTUseDAYS</th>\n",
              "      <th>FIRST_TRX</th>\n",
              "    </tr>\n",
              "  </thead>\n",
              "  <tbody>\n",
              "    <tr>\n",
              "      <th>count</th>\n",
              "      <td>3994.000000</td>\n",
              "      <td>3994.000000</td>\n",
              "      <td>3994.000000</td>\n",
              "      <td>3994.000000</td>\n",
              "    </tr>\n",
              "    <tr>\n",
              "      <th>mean</th>\n",
              "      <td>436800.919629</td>\n",
              "      <td>4.341512</td>\n",
              "      <td>9.054582</td>\n",
              "      <td>59.353781</td>\n",
              "    </tr>\n",
              "    <tr>\n",
              "      <th>std</th>\n",
              "      <td>227490.336242</td>\n",
              "      <td>2.218932</td>\n",
              "      <td>7.224983</td>\n",
              "      <td>109.777768</td>\n",
              "    </tr>\n",
              "    <tr>\n",
              "      <th>min</th>\n",
              "      <td>2.000000</td>\n",
              "      <td>1.000000</td>\n",
              "      <td>1.000000</td>\n",
              "      <td>1.000000</td>\n",
              "    </tr>\n",
              "    <tr>\n",
              "      <th>25%</th>\n",
              "      <td>254641.000000</td>\n",
              "      <td>3.000000</td>\n",
              "      <td>3.000000</td>\n",
              "      <td>6.000000</td>\n",
              "    </tr>\n",
              "    <tr>\n",
              "      <th>50%</th>\n",
              "      <td>439026.500000</td>\n",
              "      <td>4.000000</td>\n",
              "      <td>7.000000</td>\n",
              "      <td>18.000000</td>\n",
              "    </tr>\n",
              "    <tr>\n",
              "      <th>75%</th>\n",
              "      <td>614500.250000</td>\n",
              "      <td>6.000000</td>\n",
              "      <td>14.000000</td>\n",
              "      <td>64.000000</td>\n",
              "    </tr>\n",
              "    <tr>\n",
              "      <th>max</th>\n",
              "      <td>891559.000000</td>\n",
              "      <td>21.000000</td>\n",
              "      <td>31.000000</td>\n",
              "      <td>1271.000000</td>\n",
              "    </tr>\n",
              "  </tbody>\n",
              "</table>\n",
              "</div>"
            ],
            "text/plain": [
              "          partner_id  RetainedMONTHS  FIRSTUseDAYS    FIRST_TRX\n",
              "count    3994.000000     3994.000000   3994.000000  3994.000000\n",
              "mean   436800.919629        4.341512      9.054582    59.353781\n",
              "std    227490.336242        2.218932      7.224983   109.777768\n",
              "min         2.000000        1.000000      1.000000     1.000000\n",
              "25%    254641.000000        3.000000      3.000000     6.000000\n",
              "50%    439026.500000        4.000000      7.000000    18.000000\n",
              "75%    614500.250000        6.000000     14.000000    64.000000\n",
              "max    891559.000000       21.000000     31.000000  1271.000000"
            ]
          },
          "metadata": {
            "tags": []
          },
          "execution_count": 152
        }
      ]
    },
    {
      "cell_type": "code",
      "metadata": {
        "id": "9HBwQQT7_vzq"
      },
      "source": [
        "df_payment_link = pd.read_excel (r'/content/payment_link.xlsx')"
      ],
      "execution_count": null,
      "outputs": []
    },
    {
      "cell_type": "code",
      "metadata": {
        "id": "OhRFhmZE_0ab"
      },
      "source": [
        "next_month_payment_link_retained_df = df_payment_link.copy()"
      ],
      "execution_count": null,
      "outputs": []
    },
    {
      "cell_type": "code",
      "metadata": {
        "id": "wFRSgiKJ_9cn"
      },
      "source": [
        "next_month_payment_link_retained_df=next_month_payment_link_retained_df.drop(['FUSE','NextMONTHUSE', 'TRXID'],\n",
        "  axis=1)"
      ],
      "execution_count": null,
      "outputs": []
    },
    {
      "cell_type": "code",
      "metadata": {
        "colab": {
          "base_uri": "https://localhost:8080/",
          "height": 202
        },
        "id": "zsW6JtkvmgKM",
        "outputId": "650b8aaa-84dc-4256-81ee-06a9c55a46d9"
      },
      "source": [
        "next_month_payment_link_retained_df.head()"
      ],
      "execution_count": null,
      "outputs": [
        {
          "output_type": "execute_result",
          "data": {
            "text/html": [
              "<div>\n",
              "<style scoped>\n",
              "    .dataframe tbody tr th:only-of-type {\n",
              "        vertical-align: middle;\n",
              "    }\n",
              "\n",
              "    .dataframe tbody tr th {\n",
              "        vertical-align: top;\n",
              "    }\n",
              "\n",
              "    .dataframe thead th {\n",
              "        text-align: right;\n",
              "    }\n",
              "</style>\n",
              "<table border=\"1\" class=\"dataframe\">\n",
              "  <thead>\n",
              "    <tr style=\"text-align: right;\">\n",
              "      <th></th>\n",
              "      <th>partner_id</th>\n",
              "      <th>RetainedMONTHS</th>\n",
              "      <th>PaidUSER</th>\n",
              "      <th>M1_Retained</th>\n",
              "      <th>FIRSTUseDAYS</th>\n",
              "      <th>FIRST_TRX</th>\n",
              "    </tr>\n",
              "  </thead>\n",
              "  <tbody>\n",
              "    <tr>\n",
              "      <th>0</th>\n",
              "      <td>78</td>\n",
              "      <td>2</td>\n",
              "      <td>Yes</td>\n",
              "      <td>No</td>\n",
              "      <td>10</td>\n",
              "      <td>31</td>\n",
              "    </tr>\n",
              "    <tr>\n",
              "      <th>1</th>\n",
              "      <td>181</td>\n",
              "      <td>5</td>\n",
              "      <td>Yes</td>\n",
              "      <td>Yes</td>\n",
              "      <td>29</td>\n",
              "      <td>219</td>\n",
              "    </tr>\n",
              "    <tr>\n",
              "      <th>2</th>\n",
              "      <td>233</td>\n",
              "      <td>2</td>\n",
              "      <td>Yes</td>\n",
              "      <td>Yes</td>\n",
              "      <td>31</td>\n",
              "      <td>584</td>\n",
              "    </tr>\n",
              "    <tr>\n",
              "      <th>3</th>\n",
              "      <td>277</td>\n",
              "      <td>4</td>\n",
              "      <td>Yes</td>\n",
              "      <td>Yes</td>\n",
              "      <td>31</td>\n",
              "      <td>384</td>\n",
              "    </tr>\n",
              "    <tr>\n",
              "      <th>4</th>\n",
              "      <td>280</td>\n",
              "      <td>1</td>\n",
              "      <td>Yes</td>\n",
              "      <td>Yes</td>\n",
              "      <td>5</td>\n",
              "      <td>24</td>\n",
              "    </tr>\n",
              "  </tbody>\n",
              "</table>\n",
              "</div>"
            ],
            "text/plain": [
              "   partner_id  RetainedMONTHS PaidUSER M1_Retained  FIRSTUseDAYS  FIRST_TRX\n",
              "0          78               2      Yes          No            10         31\n",
              "1         181               5      Yes         Yes            29        219\n",
              "2         233               2      Yes         Yes            31        584\n",
              "3         277               4      Yes         Yes            31        384\n",
              "4         280               1      Yes         Yes             5         24"
            ]
          },
          "metadata": {
            "tags": []
          },
          "execution_count": 5
        }
      ]
    },
    {
      "cell_type": "code",
      "metadata": {
        "id": "tkNKPRPMAiVP"
      },
      "source": [
        "next_month_payment_link_retained_df = next_month_payment_link_retained_df.loc[next_month_payment_link_retained_df['M1_Retained']==\"Yes\"]"
      ],
      "execution_count": null,
      "outputs": []
    },
    {
      "cell_type": "code",
      "metadata": {
        "id": "oQYLqZZwAKAf"
      },
      "source": [
        "payment_link_paid_no_df = next_month_payment_link_retained_df.copy()\n",
        "payment_link_paid_yes_df = next_month_payment_link_retained_df.copy()"
      ],
      "execution_count": null,
      "outputs": []
    },
    {
      "cell_type": "code",
      "metadata": {
        "id": "cNXNDvU0ASk3"
      },
      "source": [
        "payment_link_paid_no_df = payment_link_paid_no_df.loc[payment_link_paid_no_df['PaidUSER']==\"No\"]\n",
        "payment_link_paid_yes_df = payment_link_paid_yes_df.loc[payment_link_paid_yes_df['PaidUSER']==\"Yes\"]"
      ],
      "execution_count": null,
      "outputs": []
    },
    {
      "cell_type": "code",
      "metadata": {
        "colab": {
          "base_uri": "https://localhost:8080/",
          "height": 294
        },
        "id": "xXextnQrnRcu",
        "outputId": "2e1c7d41-55df-4fe4-9163-8ff8b59a9d4e"
      },
      "source": [
        "next_month_payment_link_retained_df.describe()"
      ],
      "execution_count": null,
      "outputs": [
        {
          "output_type": "execute_result",
          "data": {
            "text/html": [
              "<div>\n",
              "<style scoped>\n",
              "    .dataframe tbody tr th:only-of-type {\n",
              "        vertical-align: middle;\n",
              "    }\n",
              "\n",
              "    .dataframe tbody tr th {\n",
              "        vertical-align: top;\n",
              "    }\n",
              "\n",
              "    .dataframe thead th {\n",
              "        text-align: right;\n",
              "    }\n",
              "</style>\n",
              "<table border=\"1\" class=\"dataframe\">\n",
              "  <thead>\n",
              "    <tr style=\"text-align: right;\">\n",
              "      <th></th>\n",
              "      <th>partner_id</th>\n",
              "      <th>RetainedMONTHS</th>\n",
              "      <th>FIRSTUseDAYS</th>\n",
              "      <th>FIRST_TRX</th>\n",
              "    </tr>\n",
              "  </thead>\n",
              "  <tbody>\n",
              "    <tr>\n",
              "      <th>count</th>\n",
              "      <td>869.000000</td>\n",
              "      <td>869.000000</td>\n",
              "      <td>869.000000</td>\n",
              "      <td>869.000000</td>\n",
              "    </tr>\n",
              "    <tr>\n",
              "      <th>mean</th>\n",
              "      <td>354288.486766</td>\n",
              "      <td>1.858458</td>\n",
              "      <td>10.014960</td>\n",
              "      <td>76.956272</td>\n",
              "    </tr>\n",
              "    <tr>\n",
              "      <th>std</th>\n",
              "      <td>224160.238419</td>\n",
              "      <td>1.439082</td>\n",
              "      <td>8.520158</td>\n",
              "      <td>151.273581</td>\n",
              "    </tr>\n",
              "    <tr>\n",
              "      <th>min</th>\n",
              "      <td>181.000000</td>\n",
              "      <td>1.000000</td>\n",
              "      <td>1.000000</td>\n",
              "      <td>2.000000</td>\n",
              "    </tr>\n",
              "    <tr>\n",
              "      <th>25%</th>\n",
              "      <td>166501.000000</td>\n",
              "      <td>1.000000</td>\n",
              "      <td>3.000000</td>\n",
              "      <td>8.000000</td>\n",
              "    </tr>\n",
              "    <tr>\n",
              "      <th>50%</th>\n",
              "      <td>310133.000000</td>\n",
              "      <td>1.000000</td>\n",
              "      <td>7.000000</td>\n",
              "      <td>22.000000</td>\n",
              "    </tr>\n",
              "    <tr>\n",
              "      <th>75%</th>\n",
              "      <td>514734.000000</td>\n",
              "      <td>2.000000</td>\n",
              "      <td>15.000000</td>\n",
              "      <td>67.000000</td>\n",
              "    </tr>\n",
              "    <tr>\n",
              "      <th>max</th>\n",
              "      <td>892286.000000</td>\n",
              "      <td>13.000000</td>\n",
              "      <td>31.000000</td>\n",
              "      <td>1279.000000</td>\n",
              "    </tr>\n",
              "  </tbody>\n",
              "</table>\n",
              "</div>"
            ],
            "text/plain": [
              "          partner_id  RetainedMONTHS  FIRSTUseDAYS    FIRST_TRX\n",
              "count     869.000000      869.000000    869.000000   869.000000\n",
              "mean   354288.486766        1.858458     10.014960    76.956272\n",
              "std    224160.238419        1.439082      8.520158   151.273581\n",
              "min       181.000000        1.000000      1.000000     2.000000\n",
              "25%    166501.000000        1.000000      3.000000     8.000000\n",
              "50%    310133.000000        1.000000      7.000000    22.000000\n",
              "75%    514734.000000        2.000000     15.000000    67.000000\n",
              "max    892286.000000       13.000000     31.000000  1279.000000"
            ]
          },
          "metadata": {
            "tags": []
          },
          "execution_count": 9
        }
      ]
    },
    {
      "cell_type": "code",
      "metadata": {
        "id": "iKJS_r6jnFVE"
      },
      "source": [
        ""
      ],
      "execution_count": null,
      "outputs": []
    },
    {
      "cell_type": "code",
      "metadata": {
        "id": "DCqFP6EsBuxI"
      },
      "source": [
        "df_emi_link = pd.read_excel (r'/content/emi.xlsx')"
      ],
      "execution_count": null,
      "outputs": []
    },
    {
      "cell_type": "code",
      "metadata": {
        "id": "jelGiZJ4B7gP"
      },
      "source": [
        "next_month_emi_retained_df = df_emi_link.copy()"
      ],
      "execution_count": null,
      "outputs": []
    },
    {
      "cell_type": "code",
      "metadata": {
        "id": "kz6DdLwuCC6s"
      },
      "source": [
        "next_month_emi_retained_df=next_month_emi_retained_df.drop(['FUSE','NextMONTHUSE', 'TRXID'],\n",
        "  axis=1)"
      ],
      "execution_count": null,
      "outputs": []
    },
    {
      "cell_type": "code",
      "metadata": {
        "id": "lCcBEsdtCFgf"
      },
      "source": [
        "next_month_emi_retained_df = next_month_emi_retained_df.loc[next_month_emi_retained_df['M1_Retained']==\"Yes\"]"
      ],
      "execution_count": null,
      "outputs": []
    },
    {
      "cell_type": "code",
      "metadata": {
        "colab": {
          "base_uri": "https://localhost:8080/",
          "height": 202
        },
        "id": "daf4yAcvCKuP",
        "outputId": "c57a54cf-0391-4255-f984-c1bb9dbaea32"
      },
      "source": [
        "next_month_emi_retained_df.head()"
      ],
      "execution_count": null,
      "outputs": [
        {
          "output_type": "execute_result",
          "data": {
            "text/html": [
              "<div>\n",
              "<style scoped>\n",
              "    .dataframe tbody tr th:only-of-type {\n",
              "        vertical-align: middle;\n",
              "    }\n",
              "\n",
              "    .dataframe tbody tr th {\n",
              "        vertical-align: top;\n",
              "    }\n",
              "\n",
              "    .dataframe thead th {\n",
              "        text-align: right;\n",
              "    }\n",
              "</style>\n",
              "<table border=\"1\" class=\"dataframe\">\n",
              "  <thead>\n",
              "    <tr style=\"text-align: right;\">\n",
              "      <th></th>\n",
              "      <th>partner_id</th>\n",
              "      <th>RetainedMONTHS</th>\n",
              "      <th>PaidUSER</th>\n",
              "      <th>M1_Retained</th>\n",
              "      <th>FIRSTUseDAYS</th>\n",
              "      <th>FIRST_TRX</th>\n",
              "    </tr>\n",
              "  </thead>\n",
              "  <tbody>\n",
              "    <tr>\n",
              "      <th>1</th>\n",
              "      <td>1252</td>\n",
              "      <td>2</td>\n",
              "      <td>Yes</td>\n",
              "      <td>Yes</td>\n",
              "      <td>2</td>\n",
              "      <td>4</td>\n",
              "    </tr>\n",
              "    <tr>\n",
              "      <th>4</th>\n",
              "      <td>16572</td>\n",
              "      <td>5</td>\n",
              "      <td>Yes</td>\n",
              "      <td>Yes</td>\n",
              "      <td>4</td>\n",
              "      <td>10</td>\n",
              "    </tr>\n",
              "    <tr>\n",
              "      <th>6</th>\n",
              "      <td>19496</td>\n",
              "      <td>2</td>\n",
              "      <td>Yes</td>\n",
              "      <td>Yes</td>\n",
              "      <td>7</td>\n",
              "      <td>21</td>\n",
              "    </tr>\n",
              "    <tr>\n",
              "      <th>7</th>\n",
              "      <td>19504</td>\n",
              "      <td>2</td>\n",
              "      <td>Yes</td>\n",
              "      <td>Yes</td>\n",
              "      <td>18</td>\n",
              "      <td>81</td>\n",
              "    </tr>\n",
              "    <tr>\n",
              "      <th>8</th>\n",
              "      <td>19534</td>\n",
              "      <td>6</td>\n",
              "      <td>Yes</td>\n",
              "      <td>Yes</td>\n",
              "      <td>5</td>\n",
              "      <td>10</td>\n",
              "    </tr>\n",
              "  </tbody>\n",
              "</table>\n",
              "</div>"
            ],
            "text/plain": [
              "   partner_id  RetainedMONTHS PaidUSER M1_Retained  FIRSTUseDAYS  FIRST_TRX\n",
              "1        1252               2      Yes         Yes             2          4\n",
              "4       16572               5      Yes         Yes             4         10\n",
              "6       19496               2      Yes         Yes             7         21\n",
              "7       19504               2      Yes         Yes            18         81\n",
              "8       19534               6      Yes         Yes             5         10"
            ]
          },
          "metadata": {
            "tags": []
          },
          "execution_count": 14
        }
      ]
    },
    {
      "cell_type": "code",
      "metadata": {
        "id": "fVtWS-l3CM9U"
      },
      "source": [
        "emi_paid_no_df = next_month_emi_retained_df.copy()\n",
        "emi_paid_yes_df = next_month_emi_retained_df.copy()"
      ],
      "execution_count": null,
      "outputs": []
    },
    {
      "cell_type": "code",
      "metadata": {
        "id": "-w-SLbQPCW4L"
      },
      "source": [
        "emi_paid_no_df = emi_paid_no_df.loc[emi_paid_no_df['PaidUSER']==\"No\"]\n",
        "emi_paid_yes_df = emi_paid_yes_df.loc[emi_paid_yes_df['PaidUSER']==\"Yes\"]"
      ],
      "execution_count": null,
      "outputs": []
    },
    {
      "cell_type": "code",
      "metadata": {
        "colab": {
          "base_uri": "https://localhost:8080/",
          "height": 48
        },
        "id": "0Sj1b9abCd5g",
        "outputId": "71a52e5b-9573-4408-cd7b-165adccb4cd5"
      },
      "source": [
        "emi_paid_no_df.head()"
      ],
      "execution_count": null,
      "outputs": [
        {
          "output_type": "execute_result",
          "data": {
            "text/html": [
              "<div>\n",
              "<style scoped>\n",
              "    .dataframe tbody tr th:only-of-type {\n",
              "        vertical-align: middle;\n",
              "    }\n",
              "\n",
              "    .dataframe tbody tr th {\n",
              "        vertical-align: top;\n",
              "    }\n",
              "\n",
              "    .dataframe thead th {\n",
              "        text-align: right;\n",
              "    }\n",
              "</style>\n",
              "<table border=\"1\" class=\"dataframe\">\n",
              "  <thead>\n",
              "    <tr style=\"text-align: right;\">\n",
              "      <th></th>\n",
              "      <th>partner_id</th>\n",
              "      <th>RetainedMONTHS</th>\n",
              "      <th>PaidUSER</th>\n",
              "      <th>M1_Retained</th>\n",
              "      <th>FIRSTUseDAYS</th>\n",
              "      <th>FIRST_TRX</th>\n",
              "    </tr>\n",
              "  </thead>\n",
              "  <tbody>\n",
              "  </tbody>\n",
              "</table>\n",
              "</div>"
            ],
            "text/plain": [
              "Empty DataFrame\n",
              "Columns: [partner_id, RetainedMONTHS, PaidUSER, M1_Retained, FIRSTUseDAYS, FIRST_TRX]\n",
              "Index: []"
            ]
          },
          "metadata": {
            "tags": []
          },
          "execution_count": 17
        }
      ]
    },
    {
      "cell_type": "code",
      "metadata": {
        "colab": {
          "base_uri": "https://localhost:8080/",
          "height": 294
        },
        "id": "6PetSn2M_3r4",
        "outputId": "5e8790e0-2c2f-436d-ed54-faf9fe53443d"
      },
      "source": [
        "next_month_emi_retained_df.describe()"
      ],
      "execution_count": null,
      "outputs": [
        {
          "output_type": "execute_result",
          "data": {
            "text/html": [
              "<div>\n",
              "<style scoped>\n",
              "    .dataframe tbody tr th:only-of-type {\n",
              "        vertical-align: middle;\n",
              "    }\n",
              "\n",
              "    .dataframe tbody tr th {\n",
              "        vertical-align: top;\n",
              "    }\n",
              "\n",
              "    .dataframe thead th {\n",
              "        text-align: right;\n",
              "    }\n",
              "</style>\n",
              "<table border=\"1\" class=\"dataframe\">\n",
              "  <thead>\n",
              "    <tr style=\"text-align: right;\">\n",
              "      <th></th>\n",
              "      <th>partner_id</th>\n",
              "      <th>RetainedMONTHS</th>\n",
              "      <th>FIRSTUseDAYS</th>\n",
              "      <th>FIRST_TRX</th>\n",
              "    </tr>\n",
              "  </thead>\n",
              "  <tbody>\n",
              "    <tr>\n",
              "      <th>count</th>\n",
              "      <td>227.000000</td>\n",
              "      <td>227.000000</td>\n",
              "      <td>227.000000</td>\n",
              "      <td>227.000000</td>\n",
              "    </tr>\n",
              "    <tr>\n",
              "      <th>mean</th>\n",
              "      <td>442888.286344</td>\n",
              "      <td>3.643172</td>\n",
              "      <td>4.859031</td>\n",
              "      <td>13.537445</td>\n",
              "    </tr>\n",
              "    <tr>\n",
              "      <th>std</th>\n",
              "      <td>229422.386355</td>\n",
              "      <td>1.953097</td>\n",
              "      <td>3.596636</td>\n",
              "      <td>37.404535</td>\n",
              "    </tr>\n",
              "    <tr>\n",
              "      <th>min</th>\n",
              "      <td>1252.000000</td>\n",
              "      <td>1.000000</td>\n",
              "      <td>1.000000</td>\n",
              "      <td>3.000000</td>\n",
              "    </tr>\n",
              "    <tr>\n",
              "      <th>25%</th>\n",
              "      <td>282261.000000</td>\n",
              "      <td>2.000000</td>\n",
              "      <td>2.000000</td>\n",
              "      <td>6.000000</td>\n",
              "    </tr>\n",
              "    <tr>\n",
              "      <th>50%</th>\n",
              "      <td>470325.000000</td>\n",
              "      <td>3.000000</td>\n",
              "      <td>4.000000</td>\n",
              "      <td>8.000000</td>\n",
              "    </tr>\n",
              "    <tr>\n",
              "      <th>75%</th>\n",
              "      <td>619421.000000</td>\n",
              "      <td>5.000000</td>\n",
              "      <td>6.000000</td>\n",
              "      <td>14.000000</td>\n",
              "    </tr>\n",
              "    <tr>\n",
              "      <th>max</th>\n",
              "      <td>878719.000000</td>\n",
              "      <td>10.000000</td>\n",
              "      <td>26.000000</td>\n",
              "      <td>551.000000</td>\n",
              "    </tr>\n",
              "  </tbody>\n",
              "</table>\n",
              "</div>"
            ],
            "text/plain": [
              "          partner_id  RetainedMONTHS  FIRSTUseDAYS   FIRST_TRX\n",
              "count     227.000000      227.000000    227.000000  227.000000\n",
              "mean   442888.286344        3.643172      4.859031   13.537445\n",
              "std    229422.386355        1.953097      3.596636   37.404535\n",
              "min      1252.000000        1.000000      1.000000    3.000000\n",
              "25%    282261.000000        2.000000      2.000000    6.000000\n",
              "50%    470325.000000        3.000000      4.000000    8.000000\n",
              "75%    619421.000000        5.000000      6.000000   14.000000\n",
              "max    878719.000000       10.000000     26.000000  551.000000"
            ]
          },
          "metadata": {
            "tags": []
          },
          "execution_count": 19
        }
      ]
    },
    {
      "cell_type": "code",
      "metadata": {
        "id": "-fVvbzRuHer2"
      },
      "source": [
        "df_due_tracker_link = pd.read_excel (r'/content/due_racker.xlsx')"
      ],
      "execution_count": null,
      "outputs": []
    },
    {
      "cell_type": "code",
      "metadata": {
        "id": "cm7HlyN5Hhxl"
      },
      "source": [
        "next_month_due_tracker_retained_df = df_due_tracker_link.copy()"
      ],
      "execution_count": null,
      "outputs": []
    },
    {
      "cell_type": "code",
      "metadata": {
        "colab": {
          "base_uri": "https://localhost:8080/",
          "height": 202
        },
        "id": "ZRIliRSjHw9X",
        "outputId": "81bc28d8-ff95-48f7-e3e4-940e2b7172a3"
      },
      "source": [
        "next_month_due_tracker_retained_df.head()"
      ],
      "execution_count": null,
      "outputs": [
        {
          "output_type": "execute_result",
          "data": {
            "text/html": [
              "<div>\n",
              "<style scoped>\n",
              "    .dataframe tbody tr th:only-of-type {\n",
              "        vertical-align: middle;\n",
              "    }\n",
              "\n",
              "    .dataframe tbody tr th {\n",
              "        vertical-align: top;\n",
              "    }\n",
              "\n",
              "    .dataframe thead th {\n",
              "        text-align: right;\n",
              "    }\n",
              "</style>\n",
              "<table border=\"1\" class=\"dataframe\">\n",
              "  <thead>\n",
              "    <tr style=\"text-align: right;\">\n",
              "      <th></th>\n",
              "      <th>partner_id</th>\n",
              "      <th>RetainedMONTHS</th>\n",
              "      <th>FUSE</th>\n",
              "      <th>PaidUSER</th>\n",
              "      <th>NextMONTHUSE</th>\n",
              "      <th>M1_Retained</th>\n",
              "      <th>FIRSTUseDAYS</th>\n",
              "      <th>FIRST_TRX</th>\n",
              "    </tr>\n",
              "  </thead>\n",
              "  <tbody>\n",
              "    <tr>\n",
              "      <th>0</th>\n",
              "      <td>9</td>\n",
              "      <td>2</td>\n",
              "      <td>2020-12-13</td>\n",
              "      <td>Yes</td>\n",
              "      <td>2021-01-25</td>\n",
              "      <td>Yes</td>\n",
              "      <td>5</td>\n",
              "      <td>21</td>\n",
              "    </tr>\n",
              "    <tr>\n",
              "      <th>1</th>\n",
              "      <td>233</td>\n",
              "      <td>9</td>\n",
              "      <td>2020-07-09</td>\n",
              "      <td>Yes</td>\n",
              "      <td>2020-08-09</td>\n",
              "      <td>Yes</td>\n",
              "      <td>13</td>\n",
              "      <td>41</td>\n",
              "    </tr>\n",
              "    <tr>\n",
              "      <th>2</th>\n",
              "      <td>277</td>\n",
              "      <td>1</td>\n",
              "      <td>2020-09-17</td>\n",
              "      <td>Yes</td>\n",
              "      <td>2020-10-18</td>\n",
              "      <td>Yes</td>\n",
              "      <td>2</td>\n",
              "      <td>10</td>\n",
              "    </tr>\n",
              "    <tr>\n",
              "      <th>3</th>\n",
              "      <td>360</td>\n",
              "      <td>1</td>\n",
              "      <td>2020-06-22</td>\n",
              "      <td>No</td>\n",
              "      <td>2020-08-31</td>\n",
              "      <td>No</td>\n",
              "      <td>1</td>\n",
              "      <td>16</td>\n",
              "    </tr>\n",
              "    <tr>\n",
              "      <th>4</th>\n",
              "      <td>1067</td>\n",
              "      <td>4</td>\n",
              "      <td>2020-06-16</td>\n",
              "      <td>Yes</td>\n",
              "      <td>2020-07-22</td>\n",
              "      <td>Yes</td>\n",
              "      <td>8</td>\n",
              "      <td>35</td>\n",
              "    </tr>\n",
              "  </tbody>\n",
              "</table>\n",
              "</div>"
            ],
            "text/plain": [
              "   partner_id  RetainedMONTHS       FUSE  ... M1_Retained FIRSTUseDAYS FIRST_TRX\n",
              "0           9               2 2020-12-13  ...         Yes            5        21\n",
              "1         233               9 2020-07-09  ...         Yes           13        41\n",
              "2         277               1 2020-09-17  ...         Yes            2        10\n",
              "3         360               1 2020-06-22  ...          No            1        16\n",
              "4        1067               4 2020-06-16  ...         Yes            8        35\n",
              "\n",
              "[5 rows x 8 columns]"
            ]
          },
          "metadata": {
            "tags": []
          },
          "execution_count": 23
        }
      ]
    },
    {
      "cell_type": "code",
      "metadata": {
        "id": "uilZ3cl2Hv9r"
      },
      "source": [
        "next_month_due_tracker_retained_df=next_month_due_tracker_retained_df.drop(['FUSE','NextMONTHUSE'],\n",
        "  axis=1)"
      ],
      "execution_count": null,
      "outputs": []
    },
    {
      "cell_type": "code",
      "metadata": {
        "id": "sWn1Bd9bH5Xt"
      },
      "source": [
        "next_month_due_tracker_retained_df = next_month_due_tracker_retained_df.loc[next_month_due_tracker_retained_df['M1_Retained']==\"Yes\"]"
      ],
      "execution_count": null,
      "outputs": []
    },
    {
      "cell_type": "code",
      "metadata": {
        "colab": {
          "base_uri": "https://localhost:8080/",
          "height": 294
        },
        "id": "ozUqbF0NH_48",
        "outputId": "9835762a-0300-4116-cda6-f21df8c8c407"
      },
      "source": [
        "next_month_due_tracker_retained_df.describe()"
      ],
      "execution_count": null,
      "outputs": [
        {
          "output_type": "execute_result",
          "data": {
            "text/html": [
              "<div>\n",
              "<style scoped>\n",
              "    .dataframe tbody tr th:only-of-type {\n",
              "        vertical-align: middle;\n",
              "    }\n",
              "\n",
              "    .dataframe tbody tr th {\n",
              "        vertical-align: top;\n",
              "    }\n",
              "\n",
              "    .dataframe thead th {\n",
              "        text-align: right;\n",
              "    }\n",
              "</style>\n",
              "<table border=\"1\" class=\"dataframe\">\n",
              "  <thead>\n",
              "    <tr style=\"text-align: right;\">\n",
              "      <th></th>\n",
              "      <th>partner_id</th>\n",
              "      <th>RetainedMONTHS</th>\n",
              "      <th>FIRSTUseDAYS</th>\n",
              "      <th>FIRST_TRX</th>\n",
              "    </tr>\n",
              "  </thead>\n",
              "  <tbody>\n",
              "    <tr>\n",
              "      <th>count</th>\n",
              "      <td>9626.000000</td>\n",
              "      <td>9626.00000</td>\n",
              "      <td>9626.000000</td>\n",
              "      <td>9626.000000</td>\n",
              "    </tr>\n",
              "    <tr>\n",
              "      <th>mean</th>\n",
              "      <td>360989.535944</td>\n",
              "      <td>4.24974</td>\n",
              "      <td>8.945045</td>\n",
              "      <td>96.447122</td>\n",
              "    </tr>\n",
              "    <tr>\n",
              "      <th>std</th>\n",
              "      <td>203272.347642</td>\n",
              "      <td>3.05893</td>\n",
              "      <td>7.104971</td>\n",
              "      <td>165.703013</td>\n",
              "    </tr>\n",
              "    <tr>\n",
              "      <th>min</th>\n",
              "      <td>9.000000</td>\n",
              "      <td>1.00000</td>\n",
              "      <td>1.000000</td>\n",
              "      <td>1.000000</td>\n",
              "    </tr>\n",
              "    <tr>\n",
              "      <th>25%</th>\n",
              "      <td>203737.750000</td>\n",
              "      <td>2.00000</td>\n",
              "      <td>3.000000</td>\n",
              "      <td>14.000000</td>\n",
              "    </tr>\n",
              "    <tr>\n",
              "      <th>50%</th>\n",
              "      <td>293184.000000</td>\n",
              "      <td>3.00000</td>\n",
              "      <td>7.000000</td>\n",
              "      <td>42.000000</td>\n",
              "    </tr>\n",
              "    <tr>\n",
              "      <th>75%</th>\n",
              "      <td>502399.000000</td>\n",
              "      <td>5.00000</td>\n",
              "      <td>14.000000</td>\n",
              "      <td>113.000000</td>\n",
              "    </tr>\n",
              "    <tr>\n",
              "      <th>max</th>\n",
              "      <td>897201.000000</td>\n",
              "      <td>14.00000</td>\n",
              "      <td>31.000000</td>\n",
              "      <td>4035.000000</td>\n",
              "    </tr>\n",
              "  </tbody>\n",
              "</table>\n",
              "</div>"
            ],
            "text/plain": [
              "          partner_id  RetainedMONTHS  FIRSTUseDAYS    FIRST_TRX\n",
              "count    9626.000000      9626.00000   9626.000000  9626.000000\n",
              "mean   360989.535944         4.24974      8.945045    96.447122\n",
              "std    203272.347642         3.05893      7.104971   165.703013\n",
              "min         9.000000         1.00000      1.000000     1.000000\n",
              "25%    203737.750000         2.00000      3.000000    14.000000\n",
              "50%    293184.000000         3.00000      7.000000    42.000000\n",
              "75%    502399.000000         5.00000     14.000000   113.000000\n",
              "max    897201.000000        14.00000     31.000000  4035.000000"
            ]
          },
          "metadata": {
            "tags": []
          },
          "execution_count": 26
        }
      ]
    }
  ]
}